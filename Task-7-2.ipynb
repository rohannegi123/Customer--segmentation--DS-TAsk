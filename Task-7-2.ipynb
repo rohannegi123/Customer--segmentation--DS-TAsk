{
 "cells": [
  {
   "cell_type": "code",
   "execution_count": 132,
   "id": "61f54fbc",
   "metadata": {},
   "outputs": [],
   "source": [
    "import pandas as pd\n",
    "import numpy as np\n",
    "import matplotlib.pyplot as plt\n",
    "import seaborn as sns \n",
    "from sklearn.cluster import KMeans , DBSCAN\n",
    "from pandas_profiling import ProfileReport\n",
    "from sklearn.cluster import KMeans\n",
    "from sklearn.preprocessing import StandardScaler\n",
    "from sklearn.decomposition import PCA\n"
   ]
  },
  {
   "cell_type": "code",
   "execution_count": 133,
   "id": "6c0f32e4",
   "metadata": {},
   "outputs": [],
   "source": [
    "df = pd.read_csv(\"C:\\\\Users\\\\rohan\\\\Downloads\\\\sales_data.csv\")\n",
    "pd.set_option(\"display.max_columns\", None)\n"
   ]
  },
  {
   "cell_type": "code",
   "execution_count": 134,
   "id": "b0d3f58c",
   "metadata": {},
   "outputs": [
    {
     "data": {
      "text/html": [
       "<div>\n",
       "<style scoped>\n",
       "    .dataframe tbody tr th:only-of-type {\n",
       "        vertical-align: middle;\n",
       "    }\n",
       "\n",
       "    .dataframe tbody tr th {\n",
       "        vertical-align: top;\n",
       "    }\n",
       "\n",
       "    .dataframe thead th {\n",
       "        text-align: right;\n",
       "    }\n",
       "</style>\n",
       "<table border=\"1\" class=\"dataframe\">\n",
       "  <thead>\n",
       "    <tr style=\"text-align: right;\">\n",
       "      <th></th>\n",
       "      <th>CustomerID</th>\n",
       "      <th>TOTAL_ORDERS</th>\n",
       "      <th>REVENUE</th>\n",
       "      <th>AVERAGE_ORDER_VALUE</th>\n",
       "      <th>CARRIAGE_REVENUE</th>\n",
       "      <th>AVERAGESHIPPING</th>\n",
       "      <th>FIRST_ORDER_DATE</th>\n",
       "      <th>LATEST_ORDER_DATE</th>\n",
       "      <th>AVGDAYSBETWEENORDERS</th>\n",
       "      <th>DAYSSINCELASTORDER</th>\n",
       "      <th>MONDAY_ORDERS</th>\n",
       "      <th>TUESDAY_ORDERS</th>\n",
       "      <th>WEDNESDAY_ORDERS</th>\n",
       "      <th>THURSDAY_ORDERS</th>\n",
       "      <th>FRIDAY_ORDERS</th>\n",
       "      <th>SATURDAY_ORDERS</th>\n",
       "      <th>SUNDAY_ORDERS</th>\n",
       "      <th>MONDAY_REVENUE</th>\n",
       "      <th>TUESDAY_REVENUE</th>\n",
       "      <th>WEDNESDAY_REVENUE</th>\n",
       "      <th>THURSDAY_REVENUE</th>\n",
       "      <th>FRIDAY_REVENUE</th>\n",
       "      <th>SATURDAY_REVENUE</th>\n",
       "      <th>SUNDAY_REVENUE</th>\n",
       "      <th>WEEK1_DAY01_DAY07_ORDERS</th>\n",
       "      <th>WEEK2_DAY08_DAY15_ORDERS</th>\n",
       "      <th>WEEK3_DAY16_DAY23_ORDERS</th>\n",
       "      <th>WEEK4_DAY24_DAY31_ORDERS</th>\n",
       "      <th>WEEK1_DAY01_DAY07_REVENUE</th>\n",
       "      <th>WEEK2_DAY08_DAY15_REVENUE</th>\n",
       "      <th>WEEK3_DAY16_DAY23_REVENUE</th>\n",
       "      <th>WEEK4_DAY24_DAY31_REVENUE</th>\n",
       "      <th>TIME_0000_0600_ORDERS</th>\n",
       "      <th>TIME_0601_1200_ORDERS</th>\n",
       "      <th>TIME_1200_1800_ORDERS</th>\n",
       "      <th>TIME_1801_2359_ORDERS</th>\n",
       "      <th>TIME_0000_0600_REVENUE</th>\n",
       "      <th>TIME_0601_1200_REVENUE</th>\n",
       "      <th>TIME_1200_1800_REVENUE</th>\n",
       "      <th>TIME_1801_2359_REVENUE</th>\n",
       "    </tr>\n",
       "  </thead>\n",
       "  <tbody>\n",
       "    <tr>\n",
       "      <th>0</th>\n",
       "      <td>22</td>\n",
       "      <td>124</td>\n",
       "      <td>11986.54</td>\n",
       "      <td>96.67</td>\n",
       "      <td>529.59</td>\n",
       "      <td>4.27</td>\n",
       "      <td>30-Dec-16</td>\n",
       "      <td>24-Oct-21</td>\n",
       "      <td>14.19</td>\n",
       "      <td>1</td>\n",
       "      <td>13</td>\n",
       "      <td>13</td>\n",
       "      <td>29</td>\n",
       "      <td>25</td>\n",
       "      <td>19</td>\n",
       "      <td>15</td>\n",
       "      <td>10</td>\n",
       "      <td>1287.50</td>\n",
       "      <td>1054.15</td>\n",
       "      <td>2842.52</td>\n",
       "      <td>2133.79</td>\n",
       "      <td>2051.94</td>\n",
       "      <td>1496.33</td>\n",
       "      <td>1120.31</td>\n",
       "      <td>28</td>\n",
       "      <td>42</td>\n",
       "      <td>30</td>\n",
       "      <td>24</td>\n",
       "      <td>2685.37</td>\n",
       "      <td>4299.28</td>\n",
       "      <td>2592.18</td>\n",
       "      <td>2409.71</td>\n",
       "      <td>12</td>\n",
       "      <td>61</td>\n",
       "      <td>37</td>\n",
       "      <td>14</td>\n",
       "      <td>1067.92</td>\n",
       "      <td>5674.65</td>\n",
       "      <td>3916.53</td>\n",
       "      <td>1327.44</td>\n",
       "    </tr>\n",
       "    <tr>\n",
       "      <th>1</th>\n",
       "      <td>29</td>\n",
       "      <td>82</td>\n",
       "      <td>11025.96</td>\n",
       "      <td>134.46</td>\n",
       "      <td>97.92</td>\n",
       "      <td>1.19</td>\n",
       "      <td>31-Mar-18</td>\n",
       "      <td>24-Oct-21</td>\n",
       "      <td>15.89</td>\n",
       "      <td>1</td>\n",
       "      <td>11</td>\n",
       "      <td>13</td>\n",
       "      <td>10</td>\n",
       "      <td>13</td>\n",
       "      <td>14</td>\n",
       "      <td>10</td>\n",
       "      <td>11</td>\n",
       "      <td>1253.08</td>\n",
       "      <td>2003.25</td>\n",
       "      <td>1819.75</td>\n",
       "      <td>1114.83</td>\n",
       "      <td>1791.86</td>\n",
       "      <td>1624.34</td>\n",
       "      <td>1418.85</td>\n",
       "      <td>18</td>\n",
       "      <td>19</td>\n",
       "      <td>19</td>\n",
       "      <td>26</td>\n",
       "      <td>1336.09</td>\n",
       "      <td>2776.02</td>\n",
       "      <td>2807.66</td>\n",
       "      <td>4106.19</td>\n",
       "      <td>1</td>\n",
       "      <td>13</td>\n",
       "      <td>24</td>\n",
       "      <td>44</td>\n",
       "      <td>30.25</td>\n",
       "      <td>3143.69</td>\n",
       "      <td>2205.47</td>\n",
       "      <td>5646.55</td>\n",
       "    </tr>\n",
       "    <tr>\n",
       "      <th>2</th>\n",
       "      <td>83</td>\n",
       "      <td>43</td>\n",
       "      <td>7259.69</td>\n",
       "      <td>168.83</td>\n",
       "      <td>171.69</td>\n",
       "      <td>3.99</td>\n",
       "      <td>30-Nov-17</td>\n",
       "      <td>24-Oct-21</td>\n",
       "      <td>33.12</td>\n",
       "      <td>1</td>\n",
       "      <td>5</td>\n",
       "      <td>4</td>\n",
       "      <td>3</td>\n",
       "      <td>5</td>\n",
       "      <td>5</td>\n",
       "      <td>8</td>\n",
       "      <td>13</td>\n",
       "      <td>698.95</td>\n",
       "      <td>504.97</td>\n",
       "      <td>197.97</td>\n",
       "      <td>1182.97</td>\n",
       "      <td>733.96</td>\n",
       "      <td>1223.96</td>\n",
       "      <td>2716.91</td>\n",
       "      <td>9</td>\n",
       "      <td>11</td>\n",
       "      <td>6</td>\n",
       "      <td>17</td>\n",
       "      <td>2299.93</td>\n",
       "      <td>1383.92</td>\n",
       "      <td>713.94</td>\n",
       "      <td>2861.90</td>\n",
       "      <td>0</td>\n",
       "      <td>6</td>\n",
       "      <td>12</td>\n",
       "      <td>25</td>\n",
       "      <td>0.00</td>\n",
       "      <td>707.98</td>\n",
       "      <td>2560.91</td>\n",
       "      <td>3990.80</td>\n",
       "    </tr>\n",
       "    <tr>\n",
       "      <th>3</th>\n",
       "      <td>95</td>\n",
       "      <td>44</td>\n",
       "      <td>6992.27</td>\n",
       "      <td>158.92</td>\n",
       "      <td>92.82</td>\n",
       "      <td>2.11</td>\n",
       "      <td>9-Apr-19</td>\n",
       "      <td>24-Oct-21</td>\n",
       "      <td>21.11</td>\n",
       "      <td>1</td>\n",
       "      <td>10</td>\n",
       "      <td>8</td>\n",
       "      <td>5</td>\n",
       "      <td>8</td>\n",
       "      <td>5</td>\n",
       "      <td>3</td>\n",
       "      <td>5</td>\n",
       "      <td>1753.95</td>\n",
       "      <td>1400.23</td>\n",
       "      <td>570.48</td>\n",
       "      <td>1154.06</td>\n",
       "      <td>798.07</td>\n",
       "      <td>630.00</td>\n",
       "      <td>685.48</td>\n",
       "      <td>12</td>\n",
       "      <td>15</td>\n",
       "      <td>9</td>\n",
       "      <td>8</td>\n",
       "      <td>2317.95</td>\n",
       "      <td>2417.22</td>\n",
       "      <td>997.02</td>\n",
       "      <td>1260.08</td>\n",
       "      <td>0</td>\n",
       "      <td>10</td>\n",
       "      <td>13</td>\n",
       "      <td>21</td>\n",
       "      <td>0.00</td>\n",
       "      <td>1908.99</td>\n",
       "      <td>2025.05</td>\n",
       "      <td>3058.23</td>\n",
       "    </tr>\n",
       "    <tr>\n",
       "      <th>4</th>\n",
       "      <td>124</td>\n",
       "      <td>55</td>\n",
       "      <td>6263.44</td>\n",
       "      <td>113.88</td>\n",
       "      <td>179.04</td>\n",
       "      <td>3.26</td>\n",
       "      <td>23-Oct-20</td>\n",
       "      <td>24-Oct-21</td>\n",
       "      <td>6.65</td>\n",
       "      <td>1</td>\n",
       "      <td>2</td>\n",
       "      <td>3</td>\n",
       "      <td>8</td>\n",
       "      <td>8</td>\n",
       "      <td>12</td>\n",
       "      <td>10</td>\n",
       "      <td>12</td>\n",
       "      <td>150.98</td>\n",
       "      <td>330.38</td>\n",
       "      <td>1090.23</td>\n",
       "      <td>563.63</td>\n",
       "      <td>1339.44</td>\n",
       "      <td>956.56</td>\n",
       "      <td>1832.22</td>\n",
       "      <td>10</td>\n",
       "      <td>18</td>\n",
       "      <td>21</td>\n",
       "      <td>6</td>\n",
       "      <td>831.14</td>\n",
       "      <td>1938.18</td>\n",
       "      <td>2725.66</td>\n",
       "      <td>768.46</td>\n",
       "      <td>6</td>\n",
       "      <td>9</td>\n",
       "      <td>27</td>\n",
       "      <td>13</td>\n",
       "      <td>501.34</td>\n",
       "      <td>1197.83</td>\n",
       "      <td>3004.77</td>\n",
       "      <td>1559.50</td>\n",
       "    </tr>\n",
       "  </tbody>\n",
       "</table>\n",
       "</div>"
      ],
      "text/plain": [
       "   CustomerID  TOTAL_ORDERS   REVENUE  AVERAGE_ORDER_VALUE  CARRIAGE_REVENUE  \\\n",
       "0          22           124  11986.54                96.67            529.59   \n",
       "1          29            82  11025.96               134.46             97.92   \n",
       "2          83            43   7259.69               168.83            171.69   \n",
       "3          95            44   6992.27               158.92             92.82   \n",
       "4         124            55   6263.44               113.88            179.04   \n",
       "\n",
       "   AVERAGESHIPPING FIRST_ORDER_DATE LATEST_ORDER_DATE  AVGDAYSBETWEENORDERS  \\\n",
       "0             4.27        30-Dec-16         24-Oct-21                 14.19   \n",
       "1             1.19        31-Mar-18         24-Oct-21                 15.89   \n",
       "2             3.99        30-Nov-17         24-Oct-21                 33.12   \n",
       "3             2.11         9-Apr-19         24-Oct-21                 21.11   \n",
       "4             3.26        23-Oct-20         24-Oct-21                  6.65   \n",
       "\n",
       "   DAYSSINCELASTORDER  MONDAY_ORDERS  TUESDAY_ORDERS  WEDNESDAY_ORDERS  \\\n",
       "0                   1             13              13                29   \n",
       "1                   1             11              13                10   \n",
       "2                   1              5               4                 3   \n",
       "3                   1             10               8                 5   \n",
       "4                   1              2               3                 8   \n",
       "\n",
       "   THURSDAY_ORDERS  FRIDAY_ORDERS  SATURDAY_ORDERS  SUNDAY_ORDERS  \\\n",
       "0               25             19               15             10   \n",
       "1               13             14               10             11   \n",
       "2                5              5                8             13   \n",
       "3                8              5                3              5   \n",
       "4                8             12               10             12   \n",
       "\n",
       "   MONDAY_REVENUE  TUESDAY_REVENUE  WEDNESDAY_REVENUE  THURSDAY_REVENUE  \\\n",
       "0         1287.50          1054.15            2842.52           2133.79   \n",
       "1         1253.08          2003.25            1819.75           1114.83   \n",
       "2          698.95           504.97             197.97           1182.97   \n",
       "3         1753.95          1400.23             570.48           1154.06   \n",
       "4          150.98           330.38            1090.23            563.63   \n",
       "\n",
       "   FRIDAY_REVENUE  SATURDAY_REVENUE  SUNDAY_REVENUE  WEEK1_DAY01_DAY07_ORDERS  \\\n",
       "0         2051.94           1496.33         1120.31                        28   \n",
       "1         1791.86           1624.34         1418.85                        18   \n",
       "2          733.96           1223.96         2716.91                         9   \n",
       "3          798.07            630.00          685.48                        12   \n",
       "4         1339.44            956.56         1832.22                        10   \n",
       "\n",
       "   WEEK2_DAY08_DAY15_ORDERS  WEEK3_DAY16_DAY23_ORDERS  \\\n",
       "0                        42                        30   \n",
       "1                        19                        19   \n",
       "2                        11                         6   \n",
       "3                        15                         9   \n",
       "4                        18                        21   \n",
       "\n",
       "   WEEK4_DAY24_DAY31_ORDERS  WEEK1_DAY01_DAY07_REVENUE  \\\n",
       "0                        24                    2685.37   \n",
       "1                        26                    1336.09   \n",
       "2                        17                    2299.93   \n",
       "3                         8                    2317.95   \n",
       "4                         6                     831.14   \n",
       "\n",
       "   WEEK2_DAY08_DAY15_REVENUE  WEEK3_DAY16_DAY23_REVENUE  \\\n",
       "0                    4299.28                    2592.18   \n",
       "1                    2776.02                    2807.66   \n",
       "2                    1383.92                     713.94   \n",
       "3                    2417.22                     997.02   \n",
       "4                    1938.18                    2725.66   \n",
       "\n",
       "   WEEK4_DAY24_DAY31_REVENUE  TIME_0000_0600_ORDERS  TIME_0601_1200_ORDERS  \\\n",
       "0                    2409.71                     12                     61   \n",
       "1                    4106.19                      1                     13   \n",
       "2                    2861.90                      0                      6   \n",
       "3                    1260.08                      0                     10   \n",
       "4                     768.46                      6                      9   \n",
       "\n",
       "   TIME_1200_1800_ORDERS  TIME_1801_2359_ORDERS  TIME_0000_0600_REVENUE  \\\n",
       "0                     37                     14                 1067.92   \n",
       "1                     24                     44                   30.25   \n",
       "2                     12                     25                    0.00   \n",
       "3                     13                     21                    0.00   \n",
       "4                     27                     13                  501.34   \n",
       "\n",
       "   TIME_0601_1200_REVENUE  TIME_1200_1800_REVENUE  TIME_1801_2359_REVENUE  \n",
       "0                 5674.65                 3916.53                 1327.44  \n",
       "1                 3143.69                 2205.47                 5646.55  \n",
       "2                  707.98                 2560.91                 3990.80  \n",
       "3                 1908.99                 2025.05                 3058.23  \n",
       "4                 1197.83                 3004.77                 1559.50  "
      ]
     },
     "execution_count": 134,
     "metadata": {},
     "output_type": "execute_result"
    }
   ],
   "source": [
    "df.head()"
   ]
  },
  {
   "cell_type": "code",
   "execution_count": 135,
   "id": "c91a7b75",
   "metadata": {},
   "outputs": [
    {
     "name": "stdout",
     "output_type": "stream",
     "text": [
      "<class 'pandas.core.frame.DataFrame'>\n",
      "RangeIndex: 5000 entries, 0 to 4999\n",
      "Data columns (total 40 columns):\n",
      " #   Column                     Non-Null Count  Dtype  \n",
      "---  ------                     --------------  -----  \n",
      " 0   CustomerID                 5000 non-null   int64  \n",
      " 1   TOTAL_ORDERS               5000 non-null   int64  \n",
      " 2   REVENUE                    5000 non-null   float64\n",
      " 3   AVERAGE_ORDER_VALUE        5000 non-null   float64\n",
      " 4   CARRIAGE_REVENUE           5000 non-null   float64\n",
      " 5   AVERAGESHIPPING            5000 non-null   float64\n",
      " 6   FIRST_ORDER_DATE           5000 non-null   object \n",
      " 7   LATEST_ORDER_DATE          5000 non-null   object \n",
      " 8   AVGDAYSBETWEENORDERS       5000 non-null   float64\n",
      " 9   DAYSSINCELASTORDER         5000 non-null   int64  \n",
      " 10  MONDAY_ORDERS              5000 non-null   int64  \n",
      " 11  TUESDAY_ORDERS             5000 non-null   int64  \n",
      " 12  WEDNESDAY_ORDERS           5000 non-null   int64  \n",
      " 13  THURSDAY_ORDERS            5000 non-null   int64  \n",
      " 14  FRIDAY_ORDERS              5000 non-null   int64  \n",
      " 15  SATURDAY_ORDERS            5000 non-null   int64  \n",
      " 16  SUNDAY_ORDERS              5000 non-null   int64  \n",
      " 17  MONDAY_REVENUE             5000 non-null   float64\n",
      " 18  TUESDAY_REVENUE            5000 non-null   float64\n",
      " 19  WEDNESDAY_REVENUE          5000 non-null   float64\n",
      " 20  THURSDAY_REVENUE           5000 non-null   float64\n",
      " 21  FRIDAY_REVENUE             5000 non-null   float64\n",
      " 22  SATURDAY_REVENUE           5000 non-null   float64\n",
      " 23  SUNDAY_REVENUE             5000 non-null   float64\n",
      " 24  WEEK1_DAY01_DAY07_ORDERS   5000 non-null   int64  \n",
      " 25  WEEK2_DAY08_DAY15_ORDERS   5000 non-null   int64  \n",
      " 26  WEEK3_DAY16_DAY23_ORDERS   5000 non-null   int64  \n",
      " 27  WEEK4_DAY24_DAY31_ORDERS   5000 non-null   int64  \n",
      " 28  WEEK1_DAY01_DAY07_REVENUE  5000 non-null   float64\n",
      " 29  WEEK2_DAY08_DAY15_REVENUE  5000 non-null   float64\n",
      " 30  WEEK3_DAY16_DAY23_REVENUE  5000 non-null   float64\n",
      " 31  WEEK4_DAY24_DAY31_REVENUE  5000 non-null   float64\n",
      " 32  TIME_0000_0600_ORDERS      5000 non-null   int64  \n",
      " 33  TIME_0601_1200_ORDERS      5000 non-null   int64  \n",
      " 34  TIME_1200_1800_ORDERS      5000 non-null   int64  \n",
      " 35  TIME_1801_2359_ORDERS      5000 non-null   int64  \n",
      " 36  TIME_0000_0600_REVENUE     5000 non-null   float64\n",
      " 37  TIME_0601_1200_REVENUE     5000 non-null   float64\n",
      " 38  TIME_1200_1800_REVENUE     5000 non-null   float64\n",
      " 39  TIME_1801_2359_REVENUE     5000 non-null   float64\n",
      "dtypes: float64(20), int64(18), object(2)\n",
      "memory usage: 1.5+ MB\n"
     ]
    }
   ],
   "source": [
    "df.info()"
   ]
  },
  {
   "cell_type": "code",
   "execution_count": 136,
   "id": "e2ed65b9",
   "metadata": {
    "scrolled": true
   },
   "outputs": [
    {
     "data": {
      "text/html": [
       "<div>\n",
       "<style scoped>\n",
       "    .dataframe tbody tr th:only-of-type {\n",
       "        vertical-align: middle;\n",
       "    }\n",
       "\n",
       "    .dataframe tbody tr th {\n",
       "        vertical-align: top;\n",
       "    }\n",
       "\n",
       "    .dataframe thead th {\n",
       "        text-align: right;\n",
       "    }\n",
       "</style>\n",
       "<table border=\"1\" class=\"dataframe\">\n",
       "  <thead>\n",
       "    <tr style=\"text-align: right;\">\n",
       "      <th></th>\n",
       "      <th>CustomerID</th>\n",
       "      <th>TOTAL_ORDERS</th>\n",
       "      <th>REVENUE</th>\n",
       "      <th>AVERAGE_ORDER_VALUE</th>\n",
       "      <th>CARRIAGE_REVENUE</th>\n",
       "      <th>AVERAGESHIPPING</th>\n",
       "      <th>AVGDAYSBETWEENORDERS</th>\n",
       "      <th>DAYSSINCELASTORDER</th>\n",
       "      <th>MONDAY_ORDERS</th>\n",
       "      <th>TUESDAY_ORDERS</th>\n",
       "      <th>WEDNESDAY_ORDERS</th>\n",
       "      <th>THURSDAY_ORDERS</th>\n",
       "      <th>FRIDAY_ORDERS</th>\n",
       "      <th>SATURDAY_ORDERS</th>\n",
       "      <th>SUNDAY_ORDERS</th>\n",
       "      <th>MONDAY_REVENUE</th>\n",
       "      <th>TUESDAY_REVENUE</th>\n",
       "      <th>WEDNESDAY_REVENUE</th>\n",
       "      <th>THURSDAY_REVENUE</th>\n",
       "      <th>FRIDAY_REVENUE</th>\n",
       "      <th>SATURDAY_REVENUE</th>\n",
       "      <th>SUNDAY_REVENUE</th>\n",
       "      <th>WEEK1_DAY01_DAY07_ORDERS</th>\n",
       "      <th>WEEK2_DAY08_DAY15_ORDERS</th>\n",
       "      <th>WEEK3_DAY16_DAY23_ORDERS</th>\n",
       "      <th>WEEK4_DAY24_DAY31_ORDERS</th>\n",
       "      <th>WEEK1_DAY01_DAY07_REVENUE</th>\n",
       "      <th>WEEK2_DAY08_DAY15_REVENUE</th>\n",
       "      <th>WEEK3_DAY16_DAY23_REVENUE</th>\n",
       "      <th>WEEK4_DAY24_DAY31_REVENUE</th>\n",
       "      <th>TIME_0000_0600_ORDERS</th>\n",
       "      <th>TIME_0601_1200_ORDERS</th>\n",
       "      <th>TIME_1200_1800_ORDERS</th>\n",
       "      <th>TIME_1801_2359_ORDERS</th>\n",
       "      <th>TIME_0000_0600_REVENUE</th>\n",
       "      <th>TIME_0601_1200_REVENUE</th>\n",
       "      <th>TIME_1200_1800_REVENUE</th>\n",
       "      <th>TIME_1801_2359_REVENUE</th>\n",
       "    </tr>\n",
       "  </thead>\n",
       "  <tbody>\n",
       "    <tr>\n",
       "      <th>count</th>\n",
       "      <td>5000.000000</td>\n",
       "      <td>5000.00000</td>\n",
       "      <td>5000.000000</td>\n",
       "      <td>5000.000000</td>\n",
       "      <td>5000.000000</td>\n",
       "      <td>5000.000000</td>\n",
       "      <td>5000.000000</td>\n",
       "      <td>5000.000000</td>\n",
       "      <td>5000.000000</td>\n",
       "      <td>5000.00000</td>\n",
       "      <td>5000.000000</td>\n",
       "      <td>5000.000000</td>\n",
       "      <td>5000.00000</td>\n",
       "      <td>5000.000000</td>\n",
       "      <td>5000.000000</td>\n",
       "      <td>5000.000000</td>\n",
       "      <td>5000.000000</td>\n",
       "      <td>5000.000000</td>\n",
       "      <td>5000.000000</td>\n",
       "      <td>5000.000000</td>\n",
       "      <td>5000.00000</td>\n",
       "      <td>5000.000000</td>\n",
       "      <td>5000.00000</td>\n",
       "      <td>5000.000000</td>\n",
       "      <td>5000.000000</td>\n",
       "      <td>5000.000000</td>\n",
       "      <td>5000.000000</td>\n",
       "      <td>5000.000000</td>\n",
       "      <td>5000.000000</td>\n",
       "      <td>5000.000000</td>\n",
       "      <td>5000.000000</td>\n",
       "      <td>5000.000000</td>\n",
       "      <td>5000.000000</td>\n",
       "      <td>5000.000000</td>\n",
       "      <td>5000.000000</td>\n",
       "      <td>5000.000000</td>\n",
       "      <td>5000.000000</td>\n",
       "      <td>5000.000000</td>\n",
       "    </tr>\n",
       "    <tr>\n",
       "      <th>mean</th>\n",
       "      <td>40709.227800</td>\n",
       "      <td>12.87040</td>\n",
       "      <td>1681.523840</td>\n",
       "      <td>136.537378</td>\n",
       "      <td>46.036376</td>\n",
       "      <td>3.592574</td>\n",
       "      <td>163.159618</td>\n",
       "      <td>87.420000</td>\n",
       "      <td>1.629000</td>\n",
       "      <td>1.75440</td>\n",
       "      <td>1.798000</td>\n",
       "      <td>2.134000</td>\n",
       "      <td>1.94620</td>\n",
       "      <td>1.683400</td>\n",
       "      <td>1.925400</td>\n",
       "      <td>215.208336</td>\n",
       "      <td>233.510430</td>\n",
       "      <td>235.689294</td>\n",
       "      <td>265.949796</td>\n",
       "      <td>250.580554</td>\n",
       "      <td>219.64210</td>\n",
       "      <td>260.943330</td>\n",
       "      <td>2.99780</td>\n",
       "      <td>3.062600</td>\n",
       "      <td>3.230000</td>\n",
       "      <td>3.580000</td>\n",
       "      <td>378.638346</td>\n",
       "      <td>406.595734</td>\n",
       "      <td>421.826908</td>\n",
       "      <td>474.462852</td>\n",
       "      <td>1.028800</td>\n",
       "      <td>3.746200</td>\n",
       "      <td>4.434000</td>\n",
       "      <td>3.661400</td>\n",
       "      <td>131.062636</td>\n",
       "      <td>486.863868</td>\n",
       "      <td>584.731626</td>\n",
       "      <td>478.865710</td>\n",
       "    </tr>\n",
       "    <tr>\n",
       "      <th>std</th>\n",
       "      <td>49949.848017</td>\n",
       "      <td>12.67988</td>\n",
       "      <td>1998.618678</td>\n",
       "      <td>91.651569</td>\n",
       "      <td>47.879226</td>\n",
       "      <td>2.021360</td>\n",
       "      <td>259.699496</td>\n",
       "      <td>80.156513</td>\n",
       "      <td>2.236506</td>\n",
       "      <td>2.43394</td>\n",
       "      <td>2.464875</td>\n",
       "      <td>2.468048</td>\n",
       "      <td>2.65268</td>\n",
       "      <td>2.449972</td>\n",
       "      <td>2.315018</td>\n",
       "      <td>397.831999</td>\n",
       "      <td>411.941787</td>\n",
       "      <td>397.858311</td>\n",
       "      <td>383.890024</td>\n",
       "      <td>400.543113</td>\n",
       "      <td>376.13976</td>\n",
       "      <td>406.926075</td>\n",
       "      <td>3.25698</td>\n",
       "      <td>3.792461</td>\n",
       "      <td>3.921043</td>\n",
       "      <td>3.970384</td>\n",
       "      <td>515.590218</td>\n",
       "      <td>619.413277</td>\n",
       "      <td>643.449120</td>\n",
       "      <td>617.579321</td>\n",
       "      <td>2.174331</td>\n",
       "      <td>4.700234</td>\n",
       "      <td>5.044793</td>\n",
       "      <td>4.581894</td>\n",
       "      <td>331.289349</td>\n",
       "      <td>789.029911</td>\n",
       "      <td>804.290026</td>\n",
       "      <td>743.244248</td>\n",
       "    </tr>\n",
       "    <tr>\n",
       "      <th>min</th>\n",
       "      <td>1.000000</td>\n",
       "      <td>1.00000</td>\n",
       "      <td>38.500000</td>\n",
       "      <td>10.680000</td>\n",
       "      <td>0.000000</td>\n",
       "      <td>0.000000</td>\n",
       "      <td>0.000000</td>\n",
       "      <td>1.000000</td>\n",
       "      <td>0.000000</td>\n",
       "      <td>0.00000</td>\n",
       "      <td>0.000000</td>\n",
       "      <td>0.000000</td>\n",
       "      <td>0.00000</td>\n",
       "      <td>0.000000</td>\n",
       "      <td>0.000000</td>\n",
       "      <td>0.000000</td>\n",
       "      <td>0.000000</td>\n",
       "      <td>0.000000</td>\n",
       "      <td>0.000000</td>\n",
       "      <td>0.000000</td>\n",
       "      <td>0.00000</td>\n",
       "      <td>0.000000</td>\n",
       "      <td>0.00000</td>\n",
       "      <td>0.000000</td>\n",
       "      <td>0.000000</td>\n",
       "      <td>0.000000</td>\n",
       "      <td>0.000000</td>\n",
       "      <td>0.000000</td>\n",
       "      <td>0.000000</td>\n",
       "      <td>0.000000</td>\n",
       "      <td>0.000000</td>\n",
       "      <td>0.000000</td>\n",
       "      <td>0.000000</td>\n",
       "      <td>0.000000</td>\n",
       "      <td>0.000000</td>\n",
       "      <td>0.000000</td>\n",
       "      <td>0.000000</td>\n",
       "      <td>0.000000</td>\n",
       "    </tr>\n",
       "    <tr>\n",
       "      <th>25%</th>\n",
       "      <td>1687.500000</td>\n",
       "      <td>3.00000</td>\n",
       "      <td>315.097500</td>\n",
       "      <td>83.025000</td>\n",
       "      <td>9.980000</td>\n",
       "      <td>2.500000</td>\n",
       "      <td>21.670000</td>\n",
       "      <td>7.000000</td>\n",
       "      <td>0.000000</td>\n",
       "      <td>0.00000</td>\n",
       "      <td>0.000000</td>\n",
       "      <td>0.000000</td>\n",
       "      <td>0.00000</td>\n",
       "      <td>0.000000</td>\n",
       "      <td>0.000000</td>\n",
       "      <td>0.000000</td>\n",
       "      <td>0.000000</td>\n",
       "      <td>0.000000</td>\n",
       "      <td>0.000000</td>\n",
       "      <td>0.000000</td>\n",
       "      <td>0.00000</td>\n",
       "      <td>0.000000</td>\n",
       "      <td>1.00000</td>\n",
       "      <td>0.000000</td>\n",
       "      <td>0.000000</td>\n",
       "      <td>1.000000</td>\n",
       "      <td>63.990000</td>\n",
       "      <td>0.000000</td>\n",
       "      <td>0.000000</td>\n",
       "      <td>80.000000</td>\n",
       "      <td>0.000000</td>\n",
       "      <td>1.000000</td>\n",
       "      <td>1.000000</td>\n",
       "      <td>1.000000</td>\n",
       "      <td>0.000000</td>\n",
       "      <td>35.000000</td>\n",
       "      <td>89.990000</td>\n",
       "      <td>1.000000</td>\n",
       "    </tr>\n",
       "    <tr>\n",
       "      <th>50%</th>\n",
       "      <td>13765.000000</td>\n",
       "      <td>8.00000</td>\n",
       "      <td>966.725000</td>\n",
       "      <td>113.160000</td>\n",
       "      <td>24.985000</td>\n",
       "      <td>3.660000</td>\n",
       "      <td>57.635000</td>\n",
       "      <td>68.000000</td>\n",
       "      <td>1.000000</td>\n",
       "      <td>1.00000</td>\n",
       "      <td>1.000000</td>\n",
       "      <td>1.000000</td>\n",
       "      <td>1.00000</td>\n",
       "      <td>1.000000</td>\n",
       "      <td>1.000000</td>\n",
       "      <td>74.990000</td>\n",
       "      <td>75.990000</td>\n",
       "      <td>80.990000</td>\n",
       "      <td>144.590000</td>\n",
       "      <td>91.195000</td>\n",
       "      <td>62.41500</td>\n",
       "      <td>135.990000</td>\n",
       "      <td>2.00000</td>\n",
       "      <td>2.000000</td>\n",
       "      <td>2.000000</td>\n",
       "      <td>2.000000</td>\n",
       "      <td>190.985000</td>\n",
       "      <td>183.925000</td>\n",
       "      <td>194.990000</td>\n",
       "      <td>264.485000</td>\n",
       "      <td>0.000000</td>\n",
       "      <td>2.000000</td>\n",
       "      <td>3.000000</td>\n",
       "      <td>2.000000</td>\n",
       "      <td>0.000000</td>\n",
       "      <td>236.440000</td>\n",
       "      <td>299.840000</td>\n",
       "      <td>208.990000</td>\n",
       "    </tr>\n",
       "    <tr>\n",
       "      <th>75%</th>\n",
       "      <td>71891.500000</td>\n",
       "      <td>20.00000</td>\n",
       "      <td>2493.072500</td>\n",
       "      <td>160.272500</td>\n",
       "      <td>76.862500</td>\n",
       "      <td>4.790000</td>\n",
       "      <td>170.357500</td>\n",
       "      <td>171.250000</td>\n",
       "      <td>2.000000</td>\n",
       "      <td>3.00000</td>\n",
       "      <td>3.000000</td>\n",
       "      <td>3.000000</td>\n",
       "      <td>3.00000</td>\n",
       "      <td>3.000000</td>\n",
       "      <td>3.000000</td>\n",
       "      <td>286.865000</td>\n",
       "      <td>310.972500</td>\n",
       "      <td>319.992500</td>\n",
       "      <td>344.357500</td>\n",
       "      <td>352.740000</td>\n",
       "      <td>297.28000</td>\n",
       "      <td>341.367500</td>\n",
       "      <td>4.00000</td>\n",
       "      <td>5.000000</td>\n",
       "      <td>5.000000</td>\n",
       "      <td>5.000000</td>\n",
       "      <td>513.012500</td>\n",
       "      <td>553.462500</td>\n",
       "      <td>604.085000</td>\n",
       "      <td>651.487500</td>\n",
       "      <td>1.000000</td>\n",
       "      <td>6.000000</td>\n",
       "      <td>7.000000</td>\n",
       "      <td>5.000000</td>\n",
       "      <td>131.282500</td>\n",
       "      <td>661.952500</td>\n",
       "      <td>797.032500</td>\n",
       "      <td>620.117500</td>\n",
       "    </tr>\n",
       "    <tr>\n",
       "      <th>max</th>\n",
       "      <td>277160.000000</td>\n",
       "      <td>156.00000</td>\n",
       "      <td>34847.400000</td>\n",
       "      <td>1578.880000</td>\n",
       "      <td>529.590000</td>\n",
       "      <td>35.990000</td>\n",
       "      <td>1409.500000</td>\n",
       "      <td>207.000000</td>\n",
       "      <td>19.000000</td>\n",
       "      <td>23.00000</td>\n",
       "      <td>29.000000</td>\n",
       "      <td>32.000000</td>\n",
       "      <td>26.00000</td>\n",
       "      <td>31.000000</td>\n",
       "      <td>23.000000</td>\n",
       "      <td>12819.410000</td>\n",
       "      <td>7853.920000</td>\n",
       "      <td>5877.440000</td>\n",
       "      <td>6434.950000</td>\n",
       "      <td>6855.220000</td>\n",
       "      <td>4642.97000</td>\n",
       "      <td>8366.350000</td>\n",
       "      <td>32.00000</td>\n",
       "      <td>42.000000</td>\n",
       "      <td>37.000000</td>\n",
       "      <td>53.000000</td>\n",
       "      <td>8143.650000</td>\n",
       "      <td>11303.890000</td>\n",
       "      <td>12946.220000</td>\n",
       "      <td>8274.970000</td>\n",
       "      <td>34.000000</td>\n",
       "      <td>61.000000</td>\n",
       "      <td>58.000000</td>\n",
       "      <td>64.000000</td>\n",
       "      <td>7700.240000</td>\n",
       "      <td>23832.770000</td>\n",
       "      <td>17749.010000</td>\n",
       "      <td>12995.020000</td>\n",
       "    </tr>\n",
       "  </tbody>\n",
       "</table>\n",
       "</div>"
      ],
      "text/plain": [
       "          CustomerID  TOTAL_ORDERS       REVENUE  AVERAGE_ORDER_VALUE  \\\n",
       "count    5000.000000    5000.00000   5000.000000          5000.000000   \n",
       "mean    40709.227800      12.87040   1681.523840           136.537378   \n",
       "std     49949.848017      12.67988   1998.618678            91.651569   \n",
       "min         1.000000       1.00000     38.500000            10.680000   \n",
       "25%      1687.500000       3.00000    315.097500            83.025000   \n",
       "50%     13765.000000       8.00000    966.725000           113.160000   \n",
       "75%     71891.500000      20.00000   2493.072500           160.272500   \n",
       "max    277160.000000     156.00000  34847.400000          1578.880000   \n",
       "\n",
       "       CARRIAGE_REVENUE  AVERAGESHIPPING  AVGDAYSBETWEENORDERS  \\\n",
       "count       5000.000000      5000.000000           5000.000000   \n",
       "mean          46.036376         3.592574            163.159618   \n",
       "std           47.879226         2.021360            259.699496   \n",
       "min            0.000000         0.000000              0.000000   \n",
       "25%            9.980000         2.500000             21.670000   \n",
       "50%           24.985000         3.660000             57.635000   \n",
       "75%           76.862500         4.790000            170.357500   \n",
       "max          529.590000        35.990000           1409.500000   \n",
       "\n",
       "       DAYSSINCELASTORDER  MONDAY_ORDERS  TUESDAY_ORDERS  WEDNESDAY_ORDERS  \\\n",
       "count         5000.000000    5000.000000      5000.00000       5000.000000   \n",
       "mean            87.420000       1.629000         1.75440          1.798000   \n",
       "std             80.156513       2.236506         2.43394          2.464875   \n",
       "min              1.000000       0.000000         0.00000          0.000000   \n",
       "25%              7.000000       0.000000         0.00000          0.000000   \n",
       "50%             68.000000       1.000000         1.00000          1.000000   \n",
       "75%            171.250000       2.000000         3.00000          3.000000   \n",
       "max            207.000000      19.000000        23.00000         29.000000   \n",
       "\n",
       "       THURSDAY_ORDERS  FRIDAY_ORDERS  SATURDAY_ORDERS  SUNDAY_ORDERS  \\\n",
       "count      5000.000000     5000.00000      5000.000000    5000.000000   \n",
       "mean          2.134000        1.94620         1.683400       1.925400   \n",
       "std           2.468048        2.65268         2.449972       2.315018   \n",
       "min           0.000000        0.00000         0.000000       0.000000   \n",
       "25%           0.000000        0.00000         0.000000       0.000000   \n",
       "50%           1.000000        1.00000         1.000000       1.000000   \n",
       "75%           3.000000        3.00000         3.000000       3.000000   \n",
       "max          32.000000       26.00000        31.000000      23.000000   \n",
       "\n",
       "       MONDAY_REVENUE  TUESDAY_REVENUE  WEDNESDAY_REVENUE  THURSDAY_REVENUE  \\\n",
       "count     5000.000000      5000.000000        5000.000000       5000.000000   \n",
       "mean       215.208336       233.510430         235.689294        265.949796   \n",
       "std        397.831999       411.941787         397.858311        383.890024   \n",
       "min          0.000000         0.000000           0.000000          0.000000   \n",
       "25%          0.000000         0.000000           0.000000          0.000000   \n",
       "50%         74.990000        75.990000          80.990000        144.590000   \n",
       "75%        286.865000       310.972500         319.992500        344.357500   \n",
       "max      12819.410000      7853.920000        5877.440000       6434.950000   \n",
       "\n",
       "       FRIDAY_REVENUE  SATURDAY_REVENUE  SUNDAY_REVENUE  \\\n",
       "count     5000.000000        5000.00000     5000.000000   \n",
       "mean       250.580554         219.64210      260.943330   \n",
       "std        400.543113         376.13976      406.926075   \n",
       "min          0.000000           0.00000        0.000000   \n",
       "25%          0.000000           0.00000        0.000000   \n",
       "50%         91.195000          62.41500      135.990000   \n",
       "75%        352.740000         297.28000      341.367500   \n",
       "max       6855.220000        4642.97000     8366.350000   \n",
       "\n",
       "       WEEK1_DAY01_DAY07_ORDERS  WEEK2_DAY08_DAY15_ORDERS  \\\n",
       "count                5000.00000               5000.000000   \n",
       "mean                    2.99780                  3.062600   \n",
       "std                     3.25698                  3.792461   \n",
       "min                     0.00000                  0.000000   \n",
       "25%                     1.00000                  0.000000   \n",
       "50%                     2.00000                  2.000000   \n",
       "75%                     4.00000                  5.000000   \n",
       "max                    32.00000                 42.000000   \n",
       "\n",
       "       WEEK3_DAY16_DAY23_ORDERS  WEEK4_DAY24_DAY31_ORDERS  \\\n",
       "count               5000.000000               5000.000000   \n",
       "mean                   3.230000                  3.580000   \n",
       "std                    3.921043                  3.970384   \n",
       "min                    0.000000                  0.000000   \n",
       "25%                    0.000000                  1.000000   \n",
       "50%                    2.000000                  2.000000   \n",
       "75%                    5.000000                  5.000000   \n",
       "max                   37.000000                 53.000000   \n",
       "\n",
       "       WEEK1_DAY01_DAY07_REVENUE  WEEK2_DAY08_DAY15_REVENUE  \\\n",
       "count                5000.000000                5000.000000   \n",
       "mean                  378.638346                 406.595734   \n",
       "std                   515.590218                 619.413277   \n",
       "min                     0.000000                   0.000000   \n",
       "25%                    63.990000                   0.000000   \n",
       "50%                   190.985000                 183.925000   \n",
       "75%                   513.012500                 553.462500   \n",
       "max                  8143.650000               11303.890000   \n",
       "\n",
       "       WEEK3_DAY16_DAY23_REVENUE  WEEK4_DAY24_DAY31_REVENUE  \\\n",
       "count                5000.000000                5000.000000   \n",
       "mean                  421.826908                 474.462852   \n",
       "std                   643.449120                 617.579321   \n",
       "min                     0.000000                   0.000000   \n",
       "25%                     0.000000                  80.000000   \n",
       "50%                   194.990000                 264.485000   \n",
       "75%                   604.085000                 651.487500   \n",
       "max                 12946.220000                8274.970000   \n",
       "\n",
       "       TIME_0000_0600_ORDERS  TIME_0601_1200_ORDERS  TIME_1200_1800_ORDERS  \\\n",
       "count            5000.000000            5000.000000            5000.000000   \n",
       "mean                1.028800               3.746200               4.434000   \n",
       "std                 2.174331               4.700234               5.044793   \n",
       "min                 0.000000               0.000000               0.000000   \n",
       "25%                 0.000000               1.000000               1.000000   \n",
       "50%                 0.000000               2.000000               3.000000   \n",
       "75%                 1.000000               6.000000               7.000000   \n",
       "max                34.000000              61.000000              58.000000   \n",
       "\n",
       "       TIME_1801_2359_ORDERS  TIME_0000_0600_REVENUE  TIME_0601_1200_REVENUE  \\\n",
       "count            5000.000000             5000.000000             5000.000000   \n",
       "mean                3.661400              131.062636              486.863868   \n",
       "std                 4.581894              331.289349              789.029911   \n",
       "min                 0.000000                0.000000                0.000000   \n",
       "25%                 1.000000                0.000000               35.000000   \n",
       "50%                 2.000000                0.000000              236.440000   \n",
       "75%                 5.000000              131.282500              661.952500   \n",
       "max                64.000000             7700.240000            23832.770000   \n",
       "\n",
       "       TIME_1200_1800_REVENUE  TIME_1801_2359_REVENUE  \n",
       "count             5000.000000             5000.000000  \n",
       "mean               584.731626              478.865710  \n",
       "std                804.290026              743.244248  \n",
       "min                  0.000000                0.000000  \n",
       "25%                 89.990000                1.000000  \n",
       "50%                299.840000              208.990000  \n",
       "75%                797.032500              620.117500  \n",
       "max              17749.010000            12995.020000  "
      ]
     },
     "execution_count": 136,
     "metadata": {},
     "output_type": "execute_result"
    }
   ],
   "source": [
    "df.describe()"
   ]
  },
  {
   "cell_type": "code",
   "execution_count": 137,
   "id": "5d0d0b2f",
   "metadata": {},
   "outputs": [],
   "source": [
    "df['FIRST_ORDER_DATE']=df['FIRST_ORDER_DATE'].astype('datetime64[s]')\n",
    "df['LATEST_ORDER_DATE']=df['LATEST_ORDER_DATE'].astype('datetime64[s]')"
   ]
  },
  {
   "cell_type": "code",
   "execution_count": 138,
   "id": "44181be2",
   "metadata": {},
   "outputs": [],
   "source": [
    "wcss = []\n",
    "for i in range(1,20):\n",
    "    kmean = KMeans(n_clusters = i, init = 'k-means++' , random_state= 30)\n",
    "    kmean.fit(df[['REVENUE' , 'TOTAL_ORDERS']])\n",
    "    wcss.append(kmean.inertia_)"
   ]
  },
  {
   "cell_type": "code",
   "execution_count": 139,
   "id": "93946a7a",
   "metadata": {},
   "outputs": [
    {
     "data": {
      "text/plain": [
       "[<matplotlib.lines.Line2D at 0x20d11d47580>]"
      ]
     },
     "execution_count": 139,
     "metadata": {},
     "output_type": "execute_result"
    },
    {
     "data": {
      "image/png": "[encoded data removed]",
      "text/plain": [
       "<Figure size 432x288 with 1 Axes>"
      ]
     },
     "metadata": {
      "needs_background": "light"
     },
     "output_type": "display_data"
    }
   ],
   "source": [
    "plt.plot(range(1,20) , wcss)"
   ]
  },
  {
   "cell_type": "code",
   "execution_count": 140,
   "id": "6493d758",
   "metadata": {},
   "outputs": [],
   "source": [
    "kmean = KMeans(n_clusters= 3 , init='k-means++' , random_state= 30)"
   ]
  },
  {
   "cell_type": "code",
   "execution_count": 141,
   "id": "1366a1ca",
   "metadata": {},
   "outputs": [],
   "source": [
    "Cluster = kmean.fit_predict(df[['REVENUE' , 'TOTAL_ORDERS']])"
   ]
  },
  {
   "cell_type": "code",
   "execution_count": 142,
   "id": "224b3f67",
   "metadata": {},
   "outputs": [
    {
     "data": {
      "text/plain": [
       "array([2, 1, 0])"
      ]
     },
     "execution_count": 142,
     "metadata": {},
     "output_type": "execute_result"
    }
   ],
   "source": [
    "df['CLUSTER_number'] = Cluster\n",
    "df.CLUSTER_number.unique()"
   ]
  },
  {
   "cell_type": "code",
   "execution_count": 143,
   "id": "222af992",
   "metadata": {},
   "outputs": [],
   "source": [
    "df1 = df[['REVENUE' , 'TOTAL_ORDERS']].values"
   ]
  },
  {
   "cell_type": "code",
   "execution_count": 147,
   "id": "08c74eaa",
   "metadata": {},
   "outputs": [
    {
     "data": {
      "image/png": "[encoded data removed]",
      "text/plain": [
       "<Figure size 576x432 with 1 Axes>"
      ]
     },
     "metadata": {
      "needs_background": "light"
     },
     "output_type": "display_data"
    }
   ],
   "source": [
    "plt.figure(figsize=(8,6))\n",
    "plt.scatter(df1[Cluster== 0, 0], df1[Cluster == 0, 1], s = 100, c = 'red', label = 'Cluster 0')\n",
    "plt.scatter(df1[Cluster == 1, 0], df1[Cluster == 1, 1], s = 100, c = 'blue', label = 'Cluster 1')\n",
    "plt.scatter(df1[Cluster == 2, 0], df1[Cluster == 2, 1], s = 100, c = 'green', label = 'Cluster 2')\n",
    "\n",
    "#plt.scatter(kmeans.cluster_centers_[:, 0], kmeans.cluster_centers_[:, 1], s = 300, c = 'yellow', label = 'Centroids')\n",
    "plt.title('Clusters of stocks')\n",
    "plt.legend()\n",
    "plt.show()"
   ]
  },
  {
   "cell_type": "code",
   "execution_count": 148,
   "id": "8355a991",
   "metadata": {},
   "outputs": [
    {
     "name": "stdout",
     "output_type": "stream",
     "text": [
      "Revenues for cluster 0 , MAX : 2113.44 , MIN: 38.5\n",
      "Revenues for cluster 1 , MAX : 6821.37 , MIN: 2114.41\n",
      "Revenues for cluster 2 , MAX : 34847.4 , MIN: 6911.51\n"
     ]
    }
   ],
   "source": [
    "print(f'Revenues for cluster 0 , MAX : {df[df.CLUSTER_number == 0].max().REVENUE} , MIN: {df[df.CLUSTER_number == 0].min().REVENUE}')\n",
    "print(f'Revenues for cluster 1 , MAX : {df[df.CLUSTER_number == 1].max().REVENUE} , MIN: {df[df.CLUSTER_number == 1].min().REVENUE}')\n",
    "print(f'Revenues for cluster 2 , MAX : {df[df.CLUSTER_number == 2].max().REVENUE} , MIN: {df[df.CLUSTER_number == 2].min().REVENUE}')\n"
   ]
  },
  {
   "cell_type": "markdown",
   "id": "a08e6631",
   "metadata": {},
   "source": [
    "# From the above info we can see the clusters are properly divided on the basis of revenue generated"
   ]
  },
  {
   "cell_type": "markdown",
   "id": "b8246374",
   "metadata": {},
   "source": [
    "----------------------------------------------------------------"
   ]
  },
  {
   "cell_type": "markdown",
   "id": "cd70165d",
   "metadata": {},
   "source": [
    "# Cluster 2 has the group of customers with highest revenue , Cluster 0 with the lowest ones"
   ]
  },
  {
   "cell_type": "code",
   "execution_count": 301,
   "id": "3b5654da",
   "metadata": {},
   "outputs": [
    {
     "name": "stderr",
     "output_type": "stream",
     "text": [
      "<ipython-input-301-66f11a52d4d9>:1: FutureWarning: DataFrame.mean and DataFrame.median with numeric_only=None will include datetime64 and datetime64tz columns in a future version.\n",
      "  y = [df[df.CLUSTER_number == 0].mean().REVENUE,df[df.CLUSTER_number == 1].mean().REVENUE,df[df.CLUSTER_number ==2].mean().REVENUE ]\n",
      "<ipython-input-301-66f11a52d4d9>:1: FutureWarning: DataFrame.mean and DataFrame.median with numeric_only=None will include datetime64 and datetime64tz columns in a future version.\n",
      "  y = [df[df.CLUSTER_number == 0].mean().REVENUE,df[df.CLUSTER_number == 1].mean().REVENUE,df[df.CLUSTER_number ==2].mean().REVENUE ]\n",
      "<ipython-input-301-66f11a52d4d9>:1: FutureWarning: DataFrame.mean and DataFrame.median with numeric_only=None will include datetime64 and datetime64tz columns in a future version.\n",
      "  y = [df[df.CLUSTER_number == 0].mean().REVENUE,df[df.CLUSTER_number == 1].mean().REVENUE,df[df.CLUSTER_number ==2].mean().REVENUE ]\n"
     ]
    },
    {
     "data": {
      "image/png": "[encoded data removed]",
      "text/plain": [
       "<Figure size 432x288 with 1 Axes>"
      ]
     },
     "metadata": {
      "needs_background": "light"
     },
     "output_type": "display_data"
    }
   ],
   "source": [
    "y = [df[df.CLUSTER_number == 0].mean().REVENUE,df[df.CLUSTER_number == 1].mean().REVENUE,df[df.CLUSTER_number ==2].mean().REVENUE ]\n",
    "x = ['0','1','2']\n",
    "plt.bar(x, y )\n",
    "plt.xlabel(\"Cluster number\")\n",
    "plt.ylabel(\"Average Revenue \")\n",
    "plt.title('Average Reveue based on the cluster number')\n",
    "plt.savefig('Documents/Clu.png')"
   ]
  },
  {
   "cell_type": "markdown",
   "id": "a7fc3d20",
   "metadata": {},
   "source": [
    "--------------------------------------------------------------------------------------------------------------------------------"
   ]
  },
  {
   "cell_type": "code",
   "execution_count": 242,
   "id": "8176132f",
   "metadata": {},
   "outputs": [],
   "source": [
    "df['Customer_for_days'] = Customerfor\n",
    "df.Customer_for_days=df.Customer_for_days.dt.days\n",
    "AVG = df[['CLUSTER_number' , 'CustomerID' , 'DAYSSINCELASTORDER']]#creating a seperate data frame that as cluster number and the number of days"
   ]
  },
  {
   "cell_type": "code",
   "execution_count": 243,
   "id": "671c8f10",
   "metadata": {},
   "outputs": [],
   "source": [
    "AVG_Cluster2 = AVG[AVG.CLUSTER_number==2]   #dividing the df on the basis of cluster\n",
    "AVG_Cluster1 = AVG[AVG.CLUSTER_number==1]     \n",
    "AVG_Cluster0 = AVG[AVG.CLUSTER_number==0]"
   ]
  },
  {
   "cell_type": "code",
   "execution_count": 306,
   "id": "6847df4b",
   "metadata": {},
   "outputs": [
    {
     "data": {
      "text/plain": [
       "40"
      ]
     },
     "execution_count": 306,
     "metadata": {},
     "output_type": "execute_result"
    }
   ],
   "source": [
    "Champions_1 =AVG_Cluster2[AVG_Cluster2.DAYSSINCELASTORDER <=30] \n",
    "len(Champions_1)\n",
    "#Customer which are in the cluster2(highest revenues) and DAYSSINCELASTORDER was less then 30 days (champions)"
   ]
  },
  {
   "cell_type": "code",
   "execution_count": 307,
   "id": "d1291fdc",
   "metadata": {},
   "outputs": [
    {
     "data": {
      "text/plain": [
       "15"
      ]
     },
     "execution_count": 307,
     "metadata": {},
     "output_type": "execute_result"
    }
   ],
   "source": [
    "Potential_1 = AVG_Cluster2[(AVG_Cluster2.DAYSSINCELASTORDER >30) & (AVG_Cluster2.DAYSSINCELASTORDER <=60)] \n",
    "len(Potential_1)\n",
    "#Customer which are in the cluster2(highest revenues) and their DAYSSINCELASTORDER was between 30-60days (Potential customers)"
   ]
  },
  {
   "cell_type": "code",
   "execution_count": 271,
   "id": "6209c919",
   "metadata": {},
   "outputs": [
    {
     "data": {
      "text/plain": [
       "45"
      ]
     },
     "execution_count": 271,
     "metadata": {},
     "output_type": "execute_result"
    }
   ],
   "source": [
    "Attention_1=AVG_Cluster2[AVG_Cluster2.DAYSSINCELASTORDER >60] \n",
    "len(Attention_1)\n",
    "#Customer which are in the cluster2(highest revenues) and their DAYSSINCELASTORDER was more than 90days ('need attention')"
   ]
  },
  {
   "cell_type": "code",
   "execution_count": 272,
   "id": "5297c3de",
   "metadata": {},
   "outputs": [
    {
     "data": {
      "text/plain": [
       "344"
      ]
     },
     "execution_count": 272,
     "metadata": {},
     "output_type": "execute_result"
    }
   ],
   "source": [
    "Champions_2 = AVG_Cluster1[AVG_Cluster1.DAYSSINCELASTORDER <=15]\n",
    "len(Champions_2)\n",
    "#Customer which are in the cluster1(middle range revenues)and their DAYSSINCELASTORDER was less then 15days ('champions')"
   ]
  },
  {
   "cell_type": "code",
   "execution_count": 273,
   "id": "6a9db7b4",
   "metadata": {},
   "outputs": [
    {
     "data": {
      "text/plain": [
       "281"
      ]
     },
     "execution_count": 273,
     "metadata": {},
     "output_type": "execute_result"
    }
   ],
   "source": [
    "Potential_2 = AVG_Cluster1[(AVG_Cluster1.DAYSSINCELASTORDER >15) & (AVG_Cluster1.DAYSSINCELASTORDER <=40)] \n",
    "len(Potential_2)\n",
    "#Customer which are in the cluster1(middle range revenues) and their DAYSSINCELASTORDER was between 15-40days ('potential customers')"
   ]
  },
  {
   "cell_type": "code",
   "execution_count": 274,
   "id": "c92d12dc",
   "metadata": {},
   "outputs": [
    {
     "data": {
      "text/plain": [
       "767"
      ]
     },
     "execution_count": 274,
     "metadata": {},
     "output_type": "execute_result"
    }
   ],
   "source": [
    "Attention_2 = AVG_Cluster1[AVG_Cluster1.DAYSSINCELASTORDER >40] \n",
    "len(Attention_2)\n",
    "#Customer which are in the cluster1(middle range revenues) and their DAYSSINCELASTORDER wasmore than 40 days ('Need attention')"
   ]
  },
  {
   "cell_type": "code",
   "execution_count": 275,
   "id": "85b4d29e",
   "metadata": {},
   "outputs": [
    {
     "data": {
      "text/plain": [
       "1240"
      ]
     },
     "execution_count": 275,
     "metadata": {},
     "output_type": "execute_result"
    }
   ],
   "source": [
    "Potential_3=AVG_Cluster0[AVG_Cluster0.DAYSSINCELASTORDER <=20] \n",
    "len(Potential_3)\n",
    "#Customer which are in the cluster0(lowest range revenues) and their DAYSSINCELASTORDER was less than 30 days ('potential customers')"
   ]
  },
  {
   "cell_type": "code",
   "execution_count": 276,
   "id": "0c88bc39",
   "metadata": {
    "scrolled": true
   },
   "outputs": [
    {
     "data": {
      "text/plain": [
       "2268"
      ]
     },
     "execution_count": 276,
     "metadata": {},
     "output_type": "execute_result"
    }
   ],
   "source": [
    "Attention_3 =AVG_Cluster0[AVG_Cluster0.DAYSSINCELASTORDER >20] \n",
    "len(Attention_3)\n",
    "\n",
    "#Customer which are in the cluster0(lowest range revenues) and their DAYSSINCELASTORDER wasmore than 20 days ('Need attention')"
   ]
  },
  {
   "cell_type": "markdown",
   "id": "630ef2c5",
   "metadata": {},
   "source": [
    "# Creating dataframe base on champion , potential and attention customers"
   ]
  },
  {
   "cell_type": "code",
   "execution_count": 265,
   "id": "41f16464",
   "metadata": {},
   "outputs": [],
   "source": [
    "CP = [Champions_1,Champions_2]\n",
    "Champions = pd.concat(CP)  #creating a seprate dataframe for champions\n",
    "PT = [Potential_1 , Potential_2 , Potential_3]\n",
    "Potential_customers = pd.concat(PT) #creating a seprate dataframe for potential customers\n",
    "AT = [Attention_1 ,Attention_2 , Attention_3]\n",
    "Attention = pd.concat(AT) #creatina a seprate dataframe for need attention customer"
   ]
  },
  {
   "cell_type": "code",
   "execution_count": 278,
   "id": "d99c4535",
   "metadata": {},
   "outputs": [
    {
     "data": {
      "text/plain": [
       "5000"
      ]
     },
     "execution_count": 278,
     "metadata": {},
     "output_type": "execute_result"
    }
   ],
   "source": [
    "len(Champions) + len(Potential_customers) + len(Attention)"
   ]
  },
  {
   "cell_type": "markdown",
   "id": "72c405d3",
   "metadata": {},
   "source": [
    "# Lets Check day wise revenue"
   ]
  },
  {
   "cell_type": "code",
   "execution_count": 280,
   "id": "3927e915",
   "metadata": {},
   "outputs": [
    {
     "data": {
      "text/plain": [
       "MONDAY_REVENUE       1076041.68\n",
       "TUESDAY_REVENUE      1167552.15\n",
       "WEDNESDAY_REVENUE    1178446.47\n",
       "THURSDAY_REVENUE     1329748.98\n",
       "FRIDAY_REVENUE       1252902.77\n",
       "SATURDAY_REVENUE     1098210.50\n",
       "SUNDAY_REVENUE       1304716.65\n",
       "dtype: float64"
      ]
     },
     "execution_count": 280,
     "metadata": {},
     "output_type": "execute_result"
    }
   ],
   "source": [
    "A =df[['MONDAY_REVENUE','TUESDAY_REVENUE','WEDNESDAY_REVENUE','THURSDAY_REVENUE','FRIDAY_REVENUE','SATURDAY_REVENUE','SUNDAY_REVENUE']].sum()\n",
    "A"
   ]
  },
  {
   "cell_type": "code",
   "execution_count": 298,
   "id": "8e12ecd2",
   "metadata": {},
   "outputs": [
    {
     "data": {
      "text/plain": [
       "Text(0.5, 1.0, ' Reveue based on the days of week')"
      ]
     },
     "execution_count": 298,
     "metadata": {},
     "output_type": "execute_result"
    },
    {
     "data": {
      "image/png": "[encoded data removed]",
      "text/plain": [
       "<Figure size 720x360 with 1 Axes>"
      ]
     },
     "metadata": {
      "needs_background": "light"
     },
     "output_type": "display_data"
    }
   ],
   "source": [
    "y = A\n",
    "x = ['MONDAY', 'TUESDAY', 'WEDNESDAY',\n",
    "       'THURSDAY_', 'FRIDAY', 'SATURDAY',\n",
    "       'SUNDAY']\n",
    "plt.figure(figsize=(10,5))\n",
    "plt.bar(x, y )\n",
    "plt.xlabel(\"Days\")\n",
    "plt.ylabel(\"Revenue \")\n",
    "plt.title(' Reveue based on the days of week')\n"
   ]
  },
  {
   "cell_type": "markdown",
   "id": "82813dc1",
   "metadata": {},
   "source": [
    "# As we can see mondays and saturdays have lowest revenues , we can create some weekly sale on this days to generate more revnue"
   ]
  },
  {
   "cell_type": "code",
   "execution_count": 302,
   "id": "72645381",
   "metadata": {},
   "outputs": [
    {
     "data": {
      "text/plain": [
       "2399         8\n",
       "2426        71\n",
       "2576        47\n",
       "2589        30\n",
       "2625        52\n",
       "         ...  \n",
       "4995    173946\n",
       "4996    173987\n",
       "4997    174004\n",
       "4998    174038\n",
       "4999    200783\n",
       "Name: CustomerID, Length: 3080, dtype: int64"
      ]
     },
     "execution_count": 302,
     "metadata": {},
     "output_type": "execute_result"
    }
   ],
   "source": [
    "Attention.CustomerID"
   ]
  },
  {
   "cell_type": "code",
   "execution_count": 304,
   "id": "86cc7cb5",
   "metadata": {},
   "outputs": [
    {
     "data": {
      "text/plain": [
       "1899        94\n",
       "1929         6\n",
       "1968        92\n",
       "1987        19\n",
       "2060        58\n",
       "         ...  \n",
       "1672      9651\n",
       "1673     17148\n",
       "1674     19685\n",
       "1675     76063\n",
       "1676    114829\n",
       "Name: CustomerID, Length: 1536, dtype: int64"
      ]
     },
     "execution_count": 304,
     "metadata": {},
     "output_type": "execute_result"
    }
   ],
   "source": [
    "Potential_customers.CustomerID"
   ]
  },
  {
   "cell_type": "code",
   "execution_count": 305,
   "id": "7de49ed3",
   "metadata": {},
   "outputs": [
    {
     "data": {
      "text/plain": [
       "2399         8\n",
       "2426        71\n",
       "2576        47\n",
       "2589        30\n",
       "2625        52\n",
       "         ...  \n",
       "4995    173946\n",
       "4996    173987\n",
       "4997    174004\n",
       "4998    174038\n",
       "4999    200783\n",
       "Name: CustomerID, Length: 3080, dtype: int64"
      ]
     },
     "execution_count": 305,
     "metadata": {},
     "output_type": "execute_result"
    }
   ],
   "source": [
    "Attention.CustomerID"
   ]
  },
  {
   "cell_type": "code",
   "execution_count": null,
   "id": "113149da",
   "metadata": {},
   "outputs": [],
   "source": []
  }
 ],
 "metadata": {
  "kernelspec": {
   "display_name": "Python 3",
   "language": "python",
   "name": "python3"
  },
  "language_info": {
   "codemirror_mode": {
    "name": "ipython",
    "version": 3
   },
   "file_extension": ".py",
   "mimetype": "text/x-python",
   "name": "python",
   "nbconvert_exporter": "python",
   "pygments_lexer": "ipython3",
   "version": "3.8.8"
  }
 },
 "nbformat": 4,
 "nbformat_minor": 5
}
